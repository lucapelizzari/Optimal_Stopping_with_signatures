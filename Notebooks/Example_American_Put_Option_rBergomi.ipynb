{
 "cells": [
  {
   "cell_type": "markdown",
   "id": "eccc9cab",
   "metadata": {},
   "source": [
    "# Example: Pricing American Options in rough Bergomi"
   ]
  },
  {
   "cell_type": "markdown",
   "id": "6572b688",
   "metadata": {},
   "source": [
    "In this notebook we present how to use the code from https://github.com/lucapelizzari/Optimal_Stopping_with_signatures/tree/main to compute lower and upper bounds for American options in the rough Bergomi model using the Signature methods, see Section 4.2 of https://arxiv.org/abs/2312.03444. Recall the price and volatility dynamics of the latter are given by \\begin{align*}\\label{eq:PriceDynamics}\n",
    "dX_t &= rX_tdt+X_tv_t \\left (\\rho dW_r+\\sqrt{1-\\rho^2}dB_t\\right ), \\\\ v_t & =\\xi_0\\mathcal{E}\\left (\\eta \\int_0^t(t-s)^{H-\\frac{1}{2}}dW_s \\right )\n",
    "\\end{align*} and pricing an American Put-option can be formulated at optimal stopping problem $$y_0=\\sup_{\\tau \\in \\mathcal{S}_0}\\mathbb{E}[e^{-r\\tau}\\left (K-X_{\\tau}\\right )^{+}]$$ for some strike $K$. In these experiments we consider the choice $$ H=0.07,X_0 = 100, r=0.05, \\eta = 1.9, \\rho = -0.9, \\xi_0= 0.09, K = 110$$.\n"
   ]
  },
  {
   "cell_type": "markdown",
   "id": "57e568a2",
   "metadata": {},
   "source": [
    "## Step 1: Import packages "
   ]
  },
  {
   "cell_type": "markdown",
   "id": "312f98b9",
   "metadata": {},
   "source": [
    "The iisignature package is used to compute the path-signature, and the gurobi package will be applied to solve efficiently solve high-dimensional linear programs. A license from the latter is required, and one can obtain a free-license on https://www.gurobi.com/academia/academic-program-and-licenses/."
   ]
  },
  {
   "cell_type": "code",
   "execution_count": 1,
   "id": "fe6d252c",
   "metadata": {},
   "outputs": [
    {
     "name": "stdout",
     "output_type": "stream",
     "text": [
      "Requirement already satisfied: iisignature in /Users/lucapelizzari/anaconda3/lib/python3.11/site-packages (0.24)\n",
      "Requirement already satisfied: numpy>1.7 in /Users/lucapelizzari/anaconda3/lib/python3.11/site-packages (from iisignature) (1.24.3)\n",
      "Collecting gurobipy\n",
      "  Downloading gurobipy-11.0.1-cp311-cp311-macosx_10_9_universal2.whl.metadata (15 kB)\n",
      "Downloading gurobipy-11.0.1-cp311-cp311-macosx_10_9_universal2.whl (10.7 MB)\n",
      "\u001b[2K   \u001b[90m━━━━━━━━━━━━━━━━━━━━━━━━━━━━━━━━━━━━━━━━\u001b[0m \u001b[32m10.7/10.7 MB\u001b[0m \u001b[31m11.0 MB/s\u001b[0m eta \u001b[36m0:00:00\u001b[0m00:01\u001b[0m00:01\u001b[0m\n",
      "\u001b[?25hInstalling collected packages: gurobipy\n",
      "Successfully installed gurobipy-11.0.1\n"
     ]
    }
   ],
   "source": [
    "!pip install iisignature\n",
    "!pip install gurobipy"
   ]
  },
  {
   "cell_type": "markdown",
   "id": "686404c1",
   "metadata": {},
   "source": [
    "## Step 2: Define parameters for the optimal stopping problem"
   ]
  },
  {
   "cell_type": "code",
   "execution_count": 2,
   "id": "3f46b7ac",
   "metadata": {},
   "outputs": [],
   "source": [
    "import numpy as np\n",
    "H = 0.07 \n",
    "eta = 1.9\n",
    "X0 = 100\n",
    "r = 0.05\n",
    "rho = -0.9\n",
    "xi = 0.09\n",
    "strike = 110\n",
    "def phi(x):\n",
    "    return np.maximum(strike-x,0)\n",
    "phi = [phi]"
   ]
  },
  {
   "cell_type": "markdown",
   "id": "d3865470",
   "metadata": {},
   "source": [
    "Next we fix the parameters for the primal and dual procedure (sample size,exercise and discretization grid, signature truncation, degree of state-polynomials)"
   ]
  },
  {
   "cell_type": "code",
   "execution_count": 1,
   "id": "fd54c84b",
   "metadata": {},
   "outputs": [],
   "source": [
    "K_primal = 4 #Signature trunctation primal\n",
    "K_dual = 3 #Signature truncation dual\n",
    "KK_primal = 2 #polynomial levels of states\n",
    "KK_dual = 2 #polynomial levels of states\n",
    "N = 12 #number of stopping dates\n",
    "J = 120 #discretization-grid for computing the siganture (that is iterated integrals)\n",
    "T = 1 #Final time\n",
    "M1_primal = 80000 #number of samples for the Longstaff-Schwartz procedure\n",
    "M2_primal = 80000 #number of samples for independent resimulation to get lower-bounds\n",
    "M1_dual = 4000 #number of samples for the SAA dual procedure\n",
    "M2_dual = 20000 #number of samples for independent resimulation to get lower-bounds"
   ]
  },
  {
   "cell_type": "markdown",
   "id": "cee54868",
   "metadata": {},
   "source": [
    "The file American_Option_Pricing_rBergomi.py contains the functions to compute lower and upper-bounds"
   ]
  },
  {
   "cell_type": "code",
   "execution_count": 3,
   "id": "ce15c482",
   "metadata": {},
   "outputs": [
    {
     "name": "stderr",
     "output_type": "stream",
     "text": [
      "/opt/anaconda3/lib/python3.9/site-packages/scipy/__init__.py:146: UserWarning: A NumPy version >=1.16.5 and <1.23.0 is required for this version of SciPy (detected version 1.26.4\n",
      "  warnings.warn(f\"A NumPy version >={np_minversion} and <{np_maxversion}\"\n"
     ]
    }
   ],
   "source": [
    "from American_Option_Pricing_rBergomi import LongstaffSchwartz_signature_rBergomi, DualSAA_signature_rBergomi"
   ]
  },
  {
   "cell_type": "markdown",
   "id": "19711264",
   "metadata": {},
   "source": [
    "## Step 3: Compute lower bounds"
   ]
  },
  {
   "cell_type": "markdown",
   "id": "180c7788",
   "metadata": {},
   "source": [
    "The function LongstaffSchwartz_signature_rBergomi computes (true) lower bounds, by first solving the Longstaff-Schwartz algorithm with signatures + state-polynomials described in Section 4.2 of the paper, using M1_primal samples of rough Bergomi prices. This returns linear functionals of the truncated signature at each exercise date (approxmation for continuation values). By independently resimulating M2_primal paths and their signature and polynomials, the function uses the stopping policies for each path to decide the optimal stopping point, and then averaging over all samples gives a true lower bounds for the Option price."
   ]
  },
  {
   "cell_type": "code",
   "execution_count": 4,
   "id": "8579a10e",
   "metadata": {},
   "outputs": [],
   "source": [
    "y_lowerbound,stopping_policies,run_time_primal = LongstaffSchwartz_signature_rBergomi(M1_primal,M2_primal,J,N,T,phi,rho,K_primal,KK_primal,X0,H,xi,eta,r)"
   ]
  },
  {
   "cell_type": "code",
   "execution_count": 6,
   "id": "da94559e",
   "metadata": {},
   "outputs": [
    {
     "name": "stdout",
     "output_type": "stream",
     "text": [
      "a lower bound is given by [13.23074721]\n"
     ]
    }
   ],
   "source": [
    "print('a lower bound is given by',y_lowerbound)"
   ]
  },
  {
   "cell_type": "markdown",
   "id": "06ab12b0",
   "metadata": {},
   "source": [
    "## Step 4: Compute upper bounds"
   ]
  },
  {
   "cell_type": "markdown",
   "id": "beffb042",
   "metadata": {},
   "source": [
    "The function DualSAA_signature_rBergomi computes (true) upper bounds, by minimizing over the familiy of signature-martingales, by solving the linear programm described in Remark 3.10 and Section 4.2 in the paper, along the M1_dual sample-paths, which returns optimal coefficients, and hence a martingale by considering the linear combination of the family of martingales with respect to these coefficients (approximation of Doob-martingale). After independently resimulating M2_dual paths, the function computes the Doob-Martingales for the given coefficients for all samples, and get a true upper-bound for the price by averaging."
   ]
  },
  {
   "cell_type": "markdown",
   "id": "b2c640e2",
   "metadata": {},
   "source": [
    "Attention: To run the following you need to have a license from Gurobi, here is where you can get it and how to install it https://www.gurobi.com/academia/academic-program-and-licenses/. Also notice that depending on the number of samples, it can take some time to run the code (e.g. for M1_dual = 5000 and K_dual=4 and KK_dual = 3, 1-2 minutes)."
   ]
  },
  {
   "cell_type": "code",
   "execution_count": null,
   "id": "943a64ec",
   "metadata": {},
   "outputs": [
    {
     "name": "stdout",
     "output_type": "stream",
     "text": [
      "Set parameter Username\n",
      "Academic license - for non-commercial use only - expires 2025-02-26\n",
      "8.830441951751709\n"
     ]
    }
   ],
   "source": [
    "y_upperbound,coefficients,run_time_dual = DualSAA_signature_rBergomi(M1_dual,M2_primal,J,N,T,phi,rho,K_dual,KK_dual,X0,H,xi,eta,r)"
   ]
  },
  {
   "cell_type": "markdown",
   "id": "3232eec2",
   "metadata": {},
   "source": [
    "Finally, we can print the interval of the lower and upper bounds, and it can be compared with the bounds computed in Section 4.2 of the paper."
   ]
  },
  {
   "cell_type": "code",
   "execution_count": null,
   "id": "96624c93",
   "metadata": {},
   "outputs": [],
   "source": [
    "print('The true values lies within in interval',[y_lowerbound,y_upperbounds])"
   ]
  }
 ],
 "metadata": {
  "kernelspec": {
   "display_name": "Python 3 (ipykernel)",
   "language": "python",
   "name": "python3"
  },
  "language_info": {
   "codemirror_mode": {
    "name": "ipython",
    "version": 3
   },
   "file_extension": ".py",
   "mimetype": "text/x-python",
   "name": "python",
   "nbconvert_exporter": "python",
   "pygments_lexer": "ipython3",
   "version": "3.9.13"
  }
 },
 "nbformat": 4,
 "nbformat_minor": 5
}
