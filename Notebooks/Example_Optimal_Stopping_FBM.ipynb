{
 "cells": [
  {
   "cell_type": "markdown",
   "id": "eccc9cab",
   "metadata": {
    "id": "eccc9cab"
   },
   "source": [
    "# Example: Optimal stopping of fractional Brownian motion"
   ]
  },
  {
   "cell_type": "markdown",
   "id": "6572b688",
   "metadata": {
    "id": "6572b688"
   },
   "source": [
    "In this notebook we show how to use the code from https://github.com/lucapelizzari/Optimal_Stopping_with_signatures/tree/main to compute lower and upper bounds for the optimal stopping value of fractional Brownian motion, see Section 4.1 in https://arxiv.org/abs/2312.03444, and additionally we show how to improve duality gaps using deep neural networks.\n",
    "\n",
    "The repository consists of:\n",
    "\n",
    "*   Simulation packages for fractional Brownian motion, rough Bergomi and rough Heston models\n",
    "*   A modul for signature related computations **Signature_computer.py**, which can compute the signature and log-signature  of various lifts related to volatility modelling, with the additional option of adding polynomials of the state-process and/or volatility.\n",
    "*   The main module for the linear signature approaches **Linear_signature_optimal_stopping.py**, which can be used to derive lower and upper bounds to the optimal stopping problem applying the approaches described in https://arxiv.org/abs/2312.03444\n",
    "*   The main module for deep log-signature approaches **Deep_signature_optimal_stopping.py**, which extends the linear approaches by applying deep neural networks on the log-signature. This code is accompanying a working paper paper on \"American option pricing using signatures\"\n",
    "\n",
    "\n",
    "\n"
   ]
  },
  {
   "cell_type": "markdown",
   "id": "IOriFaiyfslf",
   "metadata": {
    "id": "IOriFaiyfslf"
   },
   "source": [
    "Recall from Section 4.1 in the paper, that we wish to solve the problem $$\\sup_{\\tau\\in \\mathcal{S}_0^{100}}\\mathbb{E}(X^H_{\\tau}),$$ where $X^H$ is a fractional Brownian motion with Hurst parameter $H\\in (0,1)$, and we maximize over stopping times on $0=t_0<\\dots<t_{100}=1$. In both the primal and dual formulation, we approximate the solution using $K$-step signature lifts of the paths $t \\mapsto (t,X_t^H)$."
   ]
  },
  {
   "cell_type": "markdown",
   "id": "jFHBADvFf3nD",
   "metadata": {
    "id": "jFHBADvFf3nD"
   },
   "source": [
    "## Sampling fractional Brownian motion\n"
   ]
  },
  {
   "cell_type": "markdown",
   "id": "9xH_t1B7f6j1",
   "metadata": {
    "id": "9xH_t1B7f6j1"
   },
   "source": [
    "We start by importing our package for the simulation of fBm"
   ]
  },
  {
   "cell_type": "code",
   "execution_count": 1,
   "id": "FVYjN56tgAU1",
   "metadata": {
    "id": "FVYjN56tgAU1"
   },
   "outputs": [],
   "source": [
    "from FBM_package import FBM"
   ]
  },
  {
   "cell_type": "markdown",
   "id": "wBG12zEEgLXE",
   "metadata": {
    "id": "wBG12zEEgLXE"
   },
   "source": [
    "We define the parameters and sample training and testing data:"
   ]
  },
  {
   "cell_type": "code",
   "execution_count": 2,
   "id": "3f46b7ac",
   "metadata": {
    "id": "3f46b7ac"
   },
   "outputs": [],
   "source": [
    "import numpy as np\n",
    "N1 = 10 #number of stopping dates\n",
    "N = 100 #discretization-grid for computing the siganture (that is iterated integrals)\n",
    "h = 0.3 #Hurst Parameter\n",
    "T = 1 #Final time\n",
    "M = 50000 #number of samples for training\n",
    "M2 = 50000 #number of samples for testing\n"
   ]
  },
  {
   "cell_type": "code",
   "execution_count": 3,
   "id": "YmtoKOXugKww",
   "metadata": {
    "id": "YmtoKOXugKww"
   },
   "outputs": [],
   "source": [
    "F_training,dfBm_training,dW_training = FBM(N,M,h,method='cholesky').fbm()\n",
    "dW_training = dW_training.transpose()\n",
    "F_training = F_training.transpose()\n",
    "\n",
    "F_testing,dfBm_testing,dW_testing = FBM(N,M,h,method='cholesky').fbm()\n",
    "F_testing = F_testing.transpose()\n",
    "dW_testing = dW_testing.transpose()"
   ]
  },
  {
   "cell_type": "markdown",
   "id": "U_41KYR7gwMB",
   "metadata": {
    "id": "U_41KYR7gwMB"
   },
   "source": [
    "## Signature computations"
   ]
  },
  {
   "cell_type": "markdown",
   "id": "CChVK6JTg7ES",
   "metadata": {
    "id": "CChVK6JTg7ES"
   },
   "source": [
    "We will make us uf the iisignature package https://pypi.org/project/iisignature/ to compute the signature, and it can be installed using pip:"
   ]
  },
  {
   "cell_type": "code",
   "execution_count": 4,
   "id": "PS4L0rmag93j",
   "metadata": {
    "colab": {
     "base_uri": "https://localhost:8080/"
    },
    "collapsed": true,
    "id": "PS4L0rmag93j",
    "outputId": "e6c9735d-31cd-4ba9-d5ee-41b530905f07"
   },
   "outputs": [
    {
     "name": "stdout",
     "output_type": "stream",
     "text": [
      "Requirement already satisfied: iisignature in /usr/local/lib/python3.10/dist-packages (0.24)\n",
      "Requirement already satisfied: numpy>1.7 in /usr/local/lib/python3.10/dist-packages (from iisignature) (1.26.4)\n"
     ]
    }
   ],
   "source": [
    "!pip install iisignature"
   ]
  },
  {
   "cell_type": "markdown",
   "id": "NYgnvqT9hFrQ",
   "metadata": {
    "id": "NYgnvqT9hFrQ"
   },
   "source": [
    "We import our signature computation module, which can compute various signature and log signature lifts related to the generated data"
   ]
  },
  {
   "cell_type": "code",
   "execution_count": 5,
   "id": "-tbHfkCAhH5I",
   "metadata": {
    "id": "-tbHfkCAhH5I"
   },
   "outputs": [],
   "source": [
    "from Signature_computer import SignatureComputer"
   ]
  },
  {
   "cell_type": "markdown",
   "id": "ndrMeEXDhNSf",
   "metadata": {
    "id": "ndrMeEXDhNSf"
   },
   "source": [
    "Next we initialize the **SignatureComputer**, which allows to choose from the linear and the log signature, and various choices of signature lifts. Compared to the example of American Options, one is rather limited here and we will simply consider the lift of $(t,X_t^H)$ of degree $4$."
   ]
  },
  {
   "cell_type": "code",
   "execution_count": 6,
   "id": "hJqS5dxqhkzT",
   "metadata": {
    "id": "hJqS5dxqhkzT"
   },
   "outputs": [],
   "source": [
    "sig_computer = SignatureComputer(T, N, 4, \"linear\", signature_lift=\"normal\", poly_degree=0)"
   ]
  },
  {
   "cell_type": "code",
   "execution_count": 7,
   "id": "SnlIZ0r7hq_y",
   "metadata": {
    "colab": {
     "base_uri": "https://localhost:8080/"
    },
    "id": "SnlIZ0r7hq_y",
    "outputId": "794f8591-5d01-477f-e2e8-7e3bb979a51b"
   },
   "outputs": [
    {
     "name": "stdout",
     "output_type": "stream",
     "text": [
      "Computing linear signature with normal lift\n",
      "Computing linear signature with normal lift\n"
     ]
    }
   ],
   "source": [
    "#Compute the signature for training and test data\n",
    "tt = np.linspace(0,T,N+1)\n",
    "A_training = np.zeros((M, N+1)) #time-augmentation\n",
    "A_testing = np.zeros((M2, N+1))\n",
    "A_training[:, 1:] = A_testing[:, 1:] = tt[1:]\n",
    "signatures_training = sig_computer.compute_signature(F_training, F_training, A_training, F_training)\n",
    "signatures_testing = sig_computer.compute_signature(F_testing, F_testing, A_testing, F_testing)"
   ]
  },
  {
   "cell_type": "markdown",
   "id": "_vU9na1_iELm",
   "metadata": {
    "id": "_vU9na1_iELm"
   },
   "source": [
    "ome example of the signature paths"
   ]
  },
  {
   "cell_type": "code",
   "execution_count": 8,
   "id": "2H318fs2iF5Q",
   "metadata": {
    "colab": {
     "base_uri": "https://localhost:8080/",
     "height": 447
    },
    "id": "2H318fs2iF5Q",
    "outputId": "1708bf88-320a-4de9-d7a4-2aa581fe93c7"
   },
   "outputs": [
    {
     "data": {
      "text/plain": [
       "<matplotlib.legend.Legend at 0x7a92b5c9f8e0>"
      ]
     },
     "execution_count": 8,
     "metadata": {},
     "output_type": "execute_result"
    },
    {
     "data": {
      "image/png": "[encoded data removed]",
      "text/plain": [
       "<Figure size 640x480 with 1 Axes>"
      ]
     },
     "metadata": {},
     "output_type": "display_data"
    }
   ],
   "source": [
    "import matplotlib.pyplot as plt\n",
    "plt.plot(signatures_training[0,:,0],label = 'first level (constant)')\n",
    "plt.plot(signatures_training[0,:,1],label = '1st level: time ')\n",
    "plt.plot(signatures_training[0,:,2],label = '2nd level: $X_t^H$')\n",
    "plt.plot(signatures_training[0,:,4],label = '3th level: $\\int sdX^H_s $')\n",
    "plt.plot(signatures_training[0,:,12],label = '4th level: $\\int \\int udX^H_u dX^H_s $')\n",
    "plt.legend(loc='upper left')"
   ]
  },
  {
   "cell_type": "markdown",
   "id": "57e568a2",
   "metadata": {
    "id": "57e568a2"
   },
   "source": [
    "## Computing lower and upper bounds"
   ]
  },
  {
   "cell_type": "markdown",
   "id": "312f98b9",
   "metadata": {
    "id": "312f98b9"
   },
   "source": [
    "We can now import the linear primal and dual pricers, which compute true lower and upper bounds.\n",
    "- The **LinearLongstaffSchwartzPricer** uses the signature of the training data to recursively approximate continuation values in the spirit of the Longstaff-Schwartz algorithm (descibed in detail in Section 3.1 of https://arxiv.org/abs/2312.03444). The resulting regression coefficients at each exercise date provide a stopping rule, which can be applied to the testing data to get true lower-bounds\n",
    "- The **LinearDualPricer** uses the signature of the training data to minimize over the familiy of linear signature martingales, by solving a corresponding linear program (described in Detail in Section 3.2 of https://arxiv.org/abs/2312.03444). The resulting coefficients yield a Doob martingale approximation, which for the testing data yields a true upper bound.\n",
    "By combining the two values, we receive confidence intervals for the true option price."
   ]
  },
  {
   "cell_type": "markdown",
   "id": "XGCvF0dXijvc",
   "metadata": {
    "id": "XGCvF0dXijvc"
   },
   "source": [
    "To solve the linear programm, one can optionally choose to use Gurobi https://www.gurobi.com, which requires a free licence, which is recommended especially for high-dimensional LPs that occur when choosing large sample-sizes and/or high signature truncations levels. Alternatively, we use the free LP solvers from CVXPY"
   ]
  },
  {
   "cell_type": "code",
   "execution_count": 9,
   "id": "J2tIhYGPik5P",
   "metadata": {
    "colab": {
     "base_uri": "https://localhost:8080/"
    },
    "id": "J2tIhYGPik5P",
    "outputId": "474bcb6b-1f17-4ace-f0bc-b970909f35ea"
   },
   "outputs": [
    {
     "name": "stdout",
     "output_type": "stream",
     "text": [
      "Requirement already satisfied: gurobipy in /usr/local/lib/python3.10/dist-packages (11.0.3)\n"
     ]
    }
   ],
   "source": [
    "!pip install gurobipy\n",
    "import cvxpy as cp"
   ]
  },
  {
   "cell_type": "code",
   "execution_count": 10,
   "id": "DT2G3_y1idt4",
   "metadata": {
    "id": "DT2G3_y1idt4"
   },
   "outputs": [],
   "source": [
    "from Linear_signature_optimal_stopping import LinearLongstaffSchwartzPricer, LinearDualPricer"
   ]
  },
  {
   "cell_type": "code",
   "execution_count": 11,
   "id": "fe6d252c",
   "metadata": {
    "id": "fe6d252c"
   },
   "outputs": [],
   "source": [
    "ls_pricer = LinearLongstaffSchwartzPricer(\n",
    "        N1=N1,\n",
    "        T=T,\n",
    "        r=0,\n",
    "        mode=\"Standard\",\n",
    "        ridge=10**(-9)\n",
    "    )\n",
    "\n",
    "dual_pricer = LinearDualPricer(\n",
    "        N1=N1,\n",
    "        N=N,\n",
    "        T=T,\n",
    "        r=0,\n",
    "        LP_solver=\"CVXPY\"\n",
    "    )"
   ]
  },
  {
   "cell_type": "markdown",
   "id": "yIHV2eIyi1H4",
   "metadata": {
    "id": "yIHV2eIyi1H4"
   },
   "source": [
    "In this example we set $r=0$ (no interest rate), and mode = \"Standard\", where the alternativ is mode = \"American Option\", which only uses in-the-money paths (requires non-negative payoffs)."
   ]
  },
  {
   "cell_type": "code",
   "execution_count": 12,
   "id": "sI-sTymFjECn",
   "metadata": {
    "colab": {
     "base_uri": "https://localhost:8080/"
    },
    "collapsed": true,
    "id": "sI-sTymFjECn",
    "outputId": "1db7deec-238b-469a-d3ec-81acab912609"
   },
   "outputs": [
    {
     "name": "stdout",
     "output_type": "stream",
     "text": [
      "Regression score at exercise date 9 0.7720749247217531\n",
      "Regression score at exercise date 8 0.7072180323041455\n",
      "Regression score at exercise date 7 0.6476393620019902\n",
      "Regression score at exercise date 6 0.5836908743104001\n",
      "Regression score at exercise date 5 0.5211294745970703\n",
      "Regression score at exercise date 4 0.44911988459647145\n",
      "Regression score at exercise date 3 0.375173702259168\n",
      "Regression score at exercise date 2 0.2789237478951866\n",
      "Regression score at exercise date 1 0.17071460868296773\n"
     ]
    }
   ],
   "source": [
    "lower_bound, lower_bound_std, ls_regression_models = ls_pricer.price(\n",
    "        signatures_training,\n",
    "        F_training,\n",
    "        signatures_testing,\n",
    "        F_testing\n",
    "    )"
   ]
  },
  {
   "cell_type": "code",
   "execution_count": 13,
   "id": "coOUGeCmmMjB",
   "metadata": {
    "colab": {
     "base_uri": "https://localhost:8080/"
    },
    "id": "coOUGeCmmMjB",
    "outputId": "60f2f5a6-9581-439e-ebc2-75e8898dacd9"
   },
   "outputs": [
    {
     "name": "stdout",
     "output_type": "stream",
     "text": [
      "Linear Longstaff-Schwartz lower bound: 0.2436758369259125 ± 0.0035850490987833178\n"
     ]
    }
   ],
   "source": [
    "print(f\"Linear Longstaff-Schwartz lower bound: {lower_bound} ± {lower_bound_std/np.sqrt(M2)}\")"
   ]
  },
  {
   "cell_type": "markdown",
   "id": "LCcmaUy0mSZs",
   "metadata": {
    "id": "LCcmaUy0mSZs"
   },
   "source": [
    "Similarly let us derive the upper bounds, but we will train the model only for $M= 5000$ paths to reduce computation time, and then compute true prices for all testing samples."
   ]
  },
  {
   "cell_type": "code",
   "execution_count": 14,
   "id": "Fp-AFNRRmTqo",
   "metadata": {
    "colab": {
     "base_uri": "https://localhost:8080/"
    },
    "id": "Fp-AFNRRmTqo",
    "outputId": "c2979f65-0f35-452d-f497-0d16f0261562"
   },
   "outputs": [
    {
     "name": "stdout",
     "output_type": "stream",
     "text": [
      "21.53 seconds needed to solve the linear program using CVXPY\n"
     ]
    }
   ],
   "source": [
    "M_dual = 5000\n",
    "upper_bound, upper_bound_std, MG = dual_pricer.price(\n",
    "        signatures_training[:M_dual,:,:],\n",
    "        F_training[:M_dual,:],\n",
    "        dW_training[:M_dual,:],\n",
    "        signatures_testing,\n",
    "        F_testing,\n",
    "        dW_testing\n",
    "    )"
   ]
  },
  {
   "cell_type": "code",
   "execution_count": 15,
   "id": "I8X_t32ymd1U",
   "metadata": {
    "colab": {
     "base_uri": "https://localhost:8080/"
    },
    "id": "I8X_t32ymd1U",
    "outputId": "7f45908b-46be-4e1d-8180-39b887b0b46c"
   },
   "outputs": [
    {
     "name": "stdout",
     "output_type": "stream",
     "text": [
      "Linear Dual upper bound: 0.2701431742689744 ± 0.00046659500573156305\n",
      "Pricing interval: (0.2436758369259125, 0.2701431742689744)± 0.0035850490987833178 \n"
     ]
    }
   ],
   "source": [
    "print(f\"Linear Dual upper bound: {upper_bound} ± {upper_bound_std/np.sqrt(M2)}\")\n",
    "print(f\"Pricing interval: {(lower_bound,upper_bound)}± {np.maximum(upper_bound_std,lower_bound_std)/np.sqrt(M2)} \")"
   ]
  },
  {
   "cell_type": "markdown",
   "id": "JcULrbhGnrgt",
   "metadata": {
    "id": "JcULrbhGnrgt"
   },
   "source": [
    "## Improving upper bounds using Deep Neural Networks"
   ]
  },
  {
   "cell_type": "markdown",
   "id": "FrJFoqS7n0HH",
   "metadata": {
    "id": "FrJFoqS7n0HH"
   },
   "source": [
    "In forthcoming work about \"American options in rough volatility models\", we will focus on more non-linear apporaches to price American options. More precisely, we extend the primal and dual procedures by replacing linear functionals of the signature by deep neural networks on the log or linear signature, in order to learn highly non-linear functionals, such as the integrand of the Doob martingale (\"derivative of the Snell-envelope\"). Of course, in both methods, a optimization of the hyperparameters is required and this presentation here is only to get familiar with the code.\n",
    "\n",
    "In this example, we only consider neural networks for the dual problem. (see the rough Bergomi example for both primal and dual with DNN)"
   ]
  },
  {
   "cell_type": "code",
   "execution_count": 21,
   "id": "eS-3kzANn1Go",
   "metadata": {
    "id": "eS-3kzANn1Go"
   },
   "outputs": [],
   "source": [
    "sig_computer_deep = SignatureComputer(T, N, 4, \"linear\", signature_lift=\"normal\", poly_degree=0)"
   ]
  },
  {
   "cell_type": "code",
   "execution_count": 22,
   "id": "7TUnw8cUoFN-",
   "metadata": {
    "colab": {
     "base_uri": "https://localhost:8080/"
    },
    "id": "7TUnw8cUoFN-",
    "outputId": "d9839673-00fc-437e-e1d2-e125f0cf62fa"
   },
   "outputs": [
    {
     "name": "stdout",
     "output_type": "stream",
     "text": [
      "Computing linear signature with normal lift\n",
      "Computing linear signature with normal lift\n"
     ]
    }
   ],
   "source": [
    "deep_signatures_training = sig_computer_deep.compute_signature(F_training, F_training, A_training, F_training)\n",
    "deep_signatures_testing = sig_computer_deep.compute_signature(F_testing, F_testing, A_testing, F_testing)"
   ]
  },
  {
   "cell_type": "code",
   "execution_count": 23,
   "id": "twso7FjdoOdt",
   "metadata": {
    "id": "twso7FjdoOdt"
   },
   "outputs": [],
   "source": [
    "from Deep_signatures_optimal_stopping import DeepDualPricer"
   ]
  },
  {
   "cell_type": "markdown",
   "id": "IoDtx1nDoQa2",
   "metadata": {
    "id": "IoDtx1nDoQa2"
   },
   "source": [
    "We consider a network with $3$ hidden layers and each with $16+\\mathrm{dim}(\\mathbb{X})$ neurons, and we use $relu(x)$ activation function between layers"
   ]
  },
  {
   "cell_type": "code",
   "execution_count": 26,
   "id": "WqlWpCaYoFJo",
   "metadata": {
    "id": "WqlWpCaYoFJo"
   },
   "outputs": [],
   "source": [
    "dual_pricer = DeepDualPricer(\n",
    "        N1=N1,\n",
    "        N=N,\n",
    "        T=T,\n",
    "        r=0,\n",
    "        layers=3,\n",
    "        nodes=16,\n",
    "        activation_function='relu',\n",
    "        batch_normalization=False,\n",
    "        regularizer=10**(-9),\n",
    "        dropout=False,\n",
    "        attention_layer=False,\n",
    "        layer_normalization=False\n",
    "    )"
   ]
  },
  {
   "cell_type": "code",
   "execution_count": 27,
   "id": "MYZMxHE4qzWZ",
   "metadata": {
    "colab": {
     "base_uri": "https://localhost:8080/"
    },
    "id": "MYZMxHE4qzWZ",
    "outputId": "43d019f1-6a01-42fc-b3ea-2f5682d7b4ae"
   },
   "outputs": [
    {
     "name": "stdout",
     "output_type": "stream",
     "text": [
      "Epoch 1/10\n",
      "\u001b[1m176/176\u001b[0m \u001b[32m━━━━━━━━━━━━━━━━━━━━\u001b[0m\u001b[37m\u001b[0m \u001b[1m12s\u001b[0m 60ms/step - loss: 0.3079 - val_loss: 0.2760\n",
      "Epoch 2/10\n",
      "\u001b[1m176/176\u001b[0m \u001b[32m━━━━━━━━━━━━━━━━━━━━\u001b[0m\u001b[37m\u001b[0m \u001b[1m20s\u001b[0m 55ms/step - loss: 0.2747 - val_loss: 0.2720\n",
      "Epoch 3/10\n",
      "\u001b[1m176/176\u001b[0m \u001b[32m━━━━━━━━━━━━━━━━━━━━\u001b[0m\u001b[37m\u001b[0m \u001b[1m11s\u001b[0m 58ms/step - loss: 0.2723 - val_loss: 0.2727\n",
      "Epoch 4/10\n",
      "\u001b[1m176/176\u001b[0m \u001b[32m━━━━━━━━━━━━━━━━━━━━\u001b[0m\u001b[37m\u001b[0m \u001b[1m12s\u001b[0m 69ms/step - loss: 0.2718 - val_loss: 0.2726\n",
      "Epoch 5/10\n",
      "\u001b[1m176/176\u001b[0m \u001b[32m━━━━━━━━━━━━━━━━━━━━\u001b[0m\u001b[37m\u001b[0m \u001b[1m19s\u001b[0m 59ms/step - loss: 0.2722 - val_loss: 0.2697\n",
      "Epoch 6/10\n",
      "\u001b[1m176/176\u001b[0m \u001b[32m━━━━━━━━━━━━━━━━━━━━\u001b[0m\u001b[37m\u001b[0m \u001b[1m10s\u001b[0m 58ms/step - loss: 0.2710 - val_loss: 0.2683\n",
      "Epoch 7/10\n",
      "\u001b[1m176/176\u001b[0m \u001b[32m━━━━━━━━━━━━━━━━━━━━\u001b[0m\u001b[37m\u001b[0m \u001b[1m9s\u001b[0m 48ms/step - loss: 0.2693 - val_loss: 0.2684\n",
      "Epoch 8/10\n",
      "\u001b[1m176/176\u001b[0m \u001b[32m━━━━━━━━━━━━━━━━━━━━\u001b[0m\u001b[37m\u001b[0m \u001b[1m10s\u001b[0m 59ms/step - loss: 0.2694 - val_loss: 0.2684\n",
      "Epoch 9/10\n",
      "\u001b[1m176/176\u001b[0m \u001b[32m━━━━━━━━━━━━━━━━━━━━\u001b[0m\u001b[37m\u001b[0m \u001b[1m19s\u001b[0m 54ms/step - loss: 0.2685 - val_loss: 0.2680\n",
      "Epoch 10/10\n",
      "\u001b[1m176/176\u001b[0m \u001b[32m━━━━━━━━━━━━━━━━━━━━\u001b[0m\u001b[37m\u001b[0m \u001b[1m9s\u001b[0m 48ms/step - loss: 0.2676 - val_loss: 0.2674\n",
      "\u001b[1m1563/1563\u001b[0m \u001b[32m━━━━━━━━━━━━━━━━━━━━\u001b[0m\u001b[37m\u001b[0m \u001b[1m7s\u001b[0m 5ms/step\n",
      "\u001b[1m1563/1563\u001b[0m \u001b[32m━━━━━━━━━━━━━━━━━━━━\u001b[0m\u001b[37m\u001b[0m \u001b[1m8s\u001b[0m 5ms/step\n"
     ]
    }
   ],
   "source": [
    "y0, upper_bound_deep, upper_bound_deep_std, dual_model, dual_rule_model = dual_pricer.price(\n",
    "        deep_signatures_training,\n",
    "        F_training,\n",
    "        dW_training,\n",
    "        deep_signatures_testing,\n",
    "        F_testing,\n",
    "        dW_testing,\n",
    "        M_val=int(0.9*M),\n",
    "        batch=2**8,\n",
    "        epochs=10,\n",
    "        learning_rate=0.01\n",
    "    )"
   ]
  },
  {
   "cell_type": "code",
   "execution_count": 29,
   "id": "pu7HG0yl3sbz",
   "metadata": {
    "colab": {
     "base_uri": "https://localhost:8080/"
    },
    "id": "pu7HG0yl3sbz",
    "outputId": "2f7dbc6f-2ef6-4233-fef0-ef045bf9402f"
   },
   "outputs": [
    {
     "name": "stdout",
     "output_type": "stream",
     "text": [
      "Deep Dual upper bound: 0.2672438125482347 ± 0.0004311113726898614\n",
      "Improved Pricing interval: (0.2436758369259125, 0.2672438125482347)± 0.0035850490987833178 \n"
     ]
    }
   ],
   "source": [
    "print(f\"Deep Dual upper bound: {upper_bound_deep} ± {upper_bound_deep_std/np.sqrt(M2)}\")\n",
    "print(f\"Improved Pricing interval: {(lower_bound,upper_bound_deep)}± {np.maximum(upper_bound_deep_std,lower_bound_std)/np.sqrt(M2)} \")"
   ]
  },
  {
   "cell_type": "markdown",
   "id": "7c0e776f",
   "metadata": {},
   "source": [
    "As the learning above shows, we should probably use more epochs and consider varying learning rates to improve the performance. But already for these parameters, we see an improvement for the duality gap."
   ]
  }
 ],
 "metadata": {
  "colab": {
   "provenance": []
  },
  "kernelspec": {
   "display_name": "Python 3 (ipykernel)",
   "language": "python",
   "name": "python3"
  },
  "language_info": {
   "codemirror_mode": {
    "name": "ipython",
    "version": 3
   },
   "file_extension": ".py",
   "mimetype": "text/x-python",
   "name": "python",
   "nbconvert_exporter": "python",
   "pygments_lexer": "ipython3",
   "version": "3.9.13"
  }
 },
 "nbformat": 4,
 "nbformat_minor": 5
}
